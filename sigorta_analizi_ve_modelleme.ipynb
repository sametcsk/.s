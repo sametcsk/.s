{
 "cells": [
  {
   "cell_type": "code",
   "execution_count": 69,
   "id": "63f05ff6-42e3-4e5a-89af-2c76aa8758f3",
   "metadata": {},
   "outputs": [],
   "source": [
    "import numpy as np\n",
    "import pandas as pd\n",
    "import matplotlib.pyplot as plt\n",
    "import seaborn as sns\n",
    "from sklearn.model_selection import train_test_split\n",
    "from sklearn.preprocessing import OneHotEncoder\n",
    "from sklearn.compose import ColumnTransformer\n",
    "from sklearn.pipeline import Pipeline\n",
    "from sklearn.linear_model import LinearRegression\n",
    "from sklearn.svm import SVR\n",
    "from sklearn.preprocessing import StandardScaler\n",
    "from sklearn.metrics import mean_squared_error, r2_score,mean_absolute_error\n",
    "from sklearn.model_selection import GridSearchCV\n",
    "from sklearn.neighbors import KNeighborsRegressor\n",
    "from sklearn.tree import DecisionTreeRegressor\n",
    "import warnings\n",
    "\n",
    "warnings.filterwarnings('ignore')"
   ]
  },
  {
   "cell_type": "code",
   "execution_count": 2,
   "id": "348ede3a-7387-4af2-a544-d37832ce98f3",
   "metadata": {},
   "outputs": [],
   "source": [
    "df=pd.read_csv(\"insurance.csv\")"
   ]
  },
  {
   "cell_type": "code",
   "execution_count": 3,
   "id": "665eed8f-1603-4033-bf09-659f09f57650",
   "metadata": {},
   "outputs": [
    {
     "data": {
      "text/html": [
       "<div>\n",
       "<style scoped>\n",
       "    .dataframe tbody tr th:only-of-type {\n",
       "        vertical-align: middle;\n",
       "    }\n",
       "\n",
       "    .dataframe tbody tr th {\n",
       "        vertical-align: top;\n",
       "    }\n",
       "\n",
       "    .dataframe thead th {\n",
       "        text-align: right;\n",
       "    }\n",
       "</style>\n",
       "<table border=\"1\" class=\"dataframe\">\n",
       "  <thead>\n",
       "    <tr style=\"text-align: right;\">\n",
       "      <th></th>\n",
       "      <th>age</th>\n",
       "      <th>sex</th>\n",
       "      <th>bmi</th>\n",
       "      <th>children</th>\n",
       "      <th>smoker</th>\n",
       "      <th>region</th>\n",
       "      <th>charges</th>\n",
       "    </tr>\n",
       "  </thead>\n",
       "  <tbody>\n",
       "    <tr>\n",
       "      <th>0</th>\n",
       "      <td>19</td>\n",
       "      <td>female</td>\n",
       "      <td>27.900</td>\n",
       "      <td>0</td>\n",
       "      <td>yes</td>\n",
       "      <td>southwest</td>\n",
       "      <td>16884.92400</td>\n",
       "    </tr>\n",
       "    <tr>\n",
       "      <th>1</th>\n",
       "      <td>18</td>\n",
       "      <td>male</td>\n",
       "      <td>33.770</td>\n",
       "      <td>1</td>\n",
       "      <td>no</td>\n",
       "      <td>southeast</td>\n",
       "      <td>1725.55230</td>\n",
       "    </tr>\n",
       "    <tr>\n",
       "      <th>2</th>\n",
       "      <td>28</td>\n",
       "      <td>male</td>\n",
       "      <td>33.000</td>\n",
       "      <td>3</td>\n",
       "      <td>no</td>\n",
       "      <td>southeast</td>\n",
       "      <td>4449.46200</td>\n",
       "    </tr>\n",
       "    <tr>\n",
       "      <th>3</th>\n",
       "      <td>33</td>\n",
       "      <td>male</td>\n",
       "      <td>22.705</td>\n",
       "      <td>0</td>\n",
       "      <td>no</td>\n",
       "      <td>northwest</td>\n",
       "      <td>21984.47061</td>\n",
       "    </tr>\n",
       "    <tr>\n",
       "      <th>4</th>\n",
       "      <td>32</td>\n",
       "      <td>male</td>\n",
       "      <td>28.880</td>\n",
       "      <td>0</td>\n",
       "      <td>no</td>\n",
       "      <td>northwest</td>\n",
       "      <td>3866.85520</td>\n",
       "    </tr>\n",
       "  </tbody>\n",
       "</table>\n",
       "</div>"
      ],
      "text/plain": [
       "   age     sex     bmi  children smoker     region      charges\n",
       "0   19  female  27.900         0    yes  southwest  16884.92400\n",
       "1   18    male  33.770         1     no  southeast   1725.55230\n",
       "2   28    male  33.000         3     no  southeast   4449.46200\n",
       "3   33    male  22.705         0     no  northwest  21984.47061\n",
       "4   32    male  28.880         0     no  northwest   3866.85520"
      ]
     },
     "execution_count": 3,
     "metadata": {},
     "output_type": "execute_result"
    }
   ],
   "source": [
    "df.head()"
   ]
  },
  {
   "cell_type": "code",
   "execution_count": 4,
   "id": "915ea26b-7e82-4c60-bd21-af400fd418cc",
   "metadata": {},
   "outputs": [
    {
     "name": "stdout",
     "output_type": "stream",
     "text": [
      "<class 'pandas.core.frame.DataFrame'>\n",
      "RangeIndex: 1338 entries, 0 to 1337\n",
      "Data columns (total 7 columns):\n",
      " #   Column    Non-Null Count  Dtype  \n",
      "---  ------    --------------  -----  \n",
      " 0   age       1338 non-null   int64  \n",
      " 1   sex       1338 non-null   object \n",
      " 2   bmi       1338 non-null   float64\n",
      " 3   children  1338 non-null   int64  \n",
      " 4   smoker    1338 non-null   object \n",
      " 5   region    1338 non-null   object \n",
      " 6   charges   1338 non-null   float64\n",
      "dtypes: float64(2), int64(2), object(3)\n",
      "memory usage: 73.3+ KB\n"
     ]
    }
   ],
   "source": [
    "df.info()"
   ]
  },
  {
   "cell_type": "code",
   "execution_count": 5,
   "id": "049f51ed-0909-4b5e-8dd7-4e429cb7d40e",
   "metadata": {},
   "outputs": [
    {
     "data": {
      "text/html": [
       "<div>\n",
       "<style scoped>\n",
       "    .dataframe tbody tr th:only-of-type {\n",
       "        vertical-align: middle;\n",
       "    }\n",
       "\n",
       "    .dataframe tbody tr th {\n",
       "        vertical-align: top;\n",
       "    }\n",
       "\n",
       "    .dataframe thead th {\n",
       "        text-align: right;\n",
       "    }\n",
       "</style>\n",
       "<table border=\"1\" class=\"dataframe\">\n",
       "  <thead>\n",
       "    <tr style=\"text-align: right;\">\n",
       "      <th></th>\n",
       "      <th>age</th>\n",
       "      <th>bmi</th>\n",
       "      <th>children</th>\n",
       "      <th>charges</th>\n",
       "    </tr>\n",
       "  </thead>\n",
       "  <tbody>\n",
       "    <tr>\n",
       "      <th>count</th>\n",
       "      <td>1338.000000</td>\n",
       "      <td>1338.000000</td>\n",
       "      <td>1338.000000</td>\n",
       "      <td>1338.000000</td>\n",
       "    </tr>\n",
       "    <tr>\n",
       "      <th>mean</th>\n",
       "      <td>39.207025</td>\n",
       "      <td>30.663397</td>\n",
       "      <td>1.094918</td>\n",
       "      <td>13270.422265</td>\n",
       "    </tr>\n",
       "    <tr>\n",
       "      <th>std</th>\n",
       "      <td>14.049960</td>\n",
       "      <td>6.098187</td>\n",
       "      <td>1.205493</td>\n",
       "      <td>12110.011237</td>\n",
       "    </tr>\n",
       "    <tr>\n",
       "      <th>min</th>\n",
       "      <td>18.000000</td>\n",
       "      <td>15.960000</td>\n",
       "      <td>0.000000</td>\n",
       "      <td>1121.873900</td>\n",
       "    </tr>\n",
       "    <tr>\n",
       "      <th>25%</th>\n",
       "      <td>27.000000</td>\n",
       "      <td>26.296250</td>\n",
       "      <td>0.000000</td>\n",
       "      <td>4740.287150</td>\n",
       "    </tr>\n",
       "    <tr>\n",
       "      <th>50%</th>\n",
       "      <td>39.000000</td>\n",
       "      <td>30.400000</td>\n",
       "      <td>1.000000</td>\n",
       "      <td>9382.033000</td>\n",
       "    </tr>\n",
       "    <tr>\n",
       "      <th>75%</th>\n",
       "      <td>51.000000</td>\n",
       "      <td>34.693750</td>\n",
       "      <td>2.000000</td>\n",
       "      <td>16639.912515</td>\n",
       "    </tr>\n",
       "    <tr>\n",
       "      <th>max</th>\n",
       "      <td>64.000000</td>\n",
       "      <td>53.130000</td>\n",
       "      <td>5.000000</td>\n",
       "      <td>63770.428010</td>\n",
       "    </tr>\n",
       "  </tbody>\n",
       "</table>\n",
       "</div>"
      ],
      "text/plain": [
       "               age          bmi     children       charges\n",
       "count  1338.000000  1338.000000  1338.000000   1338.000000\n",
       "mean     39.207025    30.663397     1.094918  13270.422265\n",
       "std      14.049960     6.098187     1.205493  12110.011237\n",
       "min      18.000000    15.960000     0.000000   1121.873900\n",
       "25%      27.000000    26.296250     0.000000   4740.287150\n",
       "50%      39.000000    30.400000     1.000000   9382.033000\n",
       "75%      51.000000    34.693750     2.000000  16639.912515\n",
       "max      64.000000    53.130000     5.000000  63770.428010"
      ]
     },
     "execution_count": 5,
     "metadata": {},
     "output_type": "execute_result"
    }
   ],
   "source": [
    "df.describe()"
   ]
  },
  {
   "cell_type": "code",
   "execution_count": 30,
   "id": "8b0d073f-935e-4abd-b81e-c220a93f2b99",
   "metadata": {},
   "outputs": [],
   "source": [
    "numerical_df = df.select_dtypes(include=[np.number])\n",
    "corr=numerical_df.corr()"
   ]
  },
  {
   "cell_type": "code",
   "execution_count": 33,
   "id": "652a3342-a209-4d1f-be24-12a7b72bc2a5",
   "metadata": {},
   "outputs": [
    {
     "data": {
      "image/png": "[encoded data removed]",
      "text/plain": [
       "<Figure size 1000x800 with 2 Axes>"
      ]
     },
     "metadata": {},
     "output_type": "display_data"
    }
   ],
   "source": [
    "plt.figure(figsize=(10,8))\n",
    "sns.heatmap(corr,annot=True,cmap=\"coolwarm\",linewidths=.5)\n",
    "plt.show()"
   ]
  },
  {
   "cell_type": "code",
   "execution_count": 6,
   "id": "1535dd86-d5e4-417b-a430-67215687192b",
   "metadata": {},
   "outputs": [],
   "source": [
    "X=df.drop(\"charges\",axis=1)\n",
    "y=df[\"charges\"]"
   ]
  },
  {
   "cell_type": "code",
   "execution_count": 7,
   "id": "2b1c431c-a83c-414f-9b88-36f216fa0754",
   "metadata": {},
   "outputs": [],
   "source": [
    "categorical_cols=X.select_dtypes(include=[object]).columns.tolist()\n",
    "numerical_cols=X.select_dtypes(include=[np.number]).columns.tolist()"
   ]
  },
  {
   "cell_type": "code",
   "execution_count": 10,
   "id": "c0db076a-06af-4aa8-b2f9-a7ba8972578a",
   "metadata": {},
   "outputs": [],
   "source": [
    "X_train,X_test,y_train,y_test=train_test_split(X,y,test_size=0.20,random_state=42)"
   ]
  },
  {
   "cell_type": "code",
   "execution_count": 14,
   "id": "0f8d9ae3-f57b-41ff-824a-84de0ff31ee9",
   "metadata": {},
   "outputs": [],
   "source": [
    "preprocesser=ColumnTransformer(\n",
    "    transformers=[\n",
    "        (\"num\",StandardScaler(),numerical_cols),\n",
    "        (\"cat\",OneHotEncoder(handle_unknown=\"ignore\"),categorical_cols)\n",
    "    ]\n",
    ")\n",
    "X_train_transformed=preprocesser.fit_transform(X_train)\n",
    "X_test_transformed=preprocesser.transform(X_test)"
   ]
  },
  {
   "cell_type": "code",
   "execution_count": 16,
   "id": "dc9683ad-4767-480c-bf52-14264f01d97b",
   "metadata": {},
   "outputs": [],
   "source": [
    "linear=LinearRegression()\n",
    "linear.fit(X_train_transformed,y_train)\n",
    "y_pred_linear=linear.predict(X_test_transformed)"
   ]
  },
  {
   "cell_type": "code",
   "execution_count": 18,
   "id": "cd099f58-cc0e-411c-8873-2bf3931c877f",
   "metadata": {},
   "outputs": [
    {
     "name": "stdout",
     "output_type": "stream",
     "text": [
      "Mean Absolute Eror: 4181.194473753654\n",
      "Mean Squared Eror: 33596915.85136149\n",
      "R2 Score: 0.7835929767120722\n"
     ]
    }
   ],
   "source": [
    "print(\"Mean Absolute Eror:\",mean_absolute_error(y_test,y_pred_linear))\n",
    "print(\"Mean Squared Eror:\",mean_squared_error(y_test,y_pred_linear))\n",
    "print(\"R2 Score:\",r2_score(y_test,y_pred_linear))"
   ]
  },
  {
   "cell_type": "code",
   "execution_count": 21,
   "id": "80434a34-b9b1-4f41-b765-ce53c8cb2ea2",
   "metadata": {},
   "outputs": [],
   "source": [
    "knn=KNeighborsRegressor(n_neighbors=5)"
   ]
  },
  {
   "cell_type": "code",
   "execution_count": 23,
   "id": "967edf89-a7e4-4526-b03b-27c96ac2c646",
   "metadata": {},
   "outputs": [
    {
     "name": "stdout",
     "output_type": "stream",
     "text": [
      "MSE: 35984256.904628225\n",
      "MAE: 3631.59117925\n",
      "R2: 0.7682154529775659\n"
     ]
    }
   ],
   "source": [
    "knn.fit(X_train_transformed,y_train)\n",
    "y_predknn=knn.predict(X_test_transformed)\n",
    "print(\"MSE:\", mean_squared_error(y_test, y_predknn))\n",
    "print(\"MAE:\", mean_absolute_error(y_test, y_predknn))\n",
    "print(\"R2:\", r2_score(y_test, y_predknn))"
   ]
  },
  {
   "cell_type": "code",
   "execution_count": 50,
   "id": "7b3f9de1-5c83-4e21-a557-117d5d62ed02",
   "metadata": {},
   "outputs": [],
   "source": [
    "param_grid_knn={\n",
    "    \"n_neighbors\":[2,4,6,8,10],\n",
    "    \"weights\":[\"uniform\",\"distance\"],\n",
    "    \"algorithm\":[\"auto\", \"ball_tree\", \"kd_tree\", \"brute\"],\n",
    "    \"p\":[2,4,6]\n",
    "\n",
    "}"
   ]
  },
  {
   "cell_type": "code",
   "execution_count": 51,
   "id": "11f34b08-42d2-428d-8b67-771fe72390c4",
   "metadata": {},
   "outputs": [
    {
     "name": "stdout",
     "output_type": "stream",
     "text": [
      "Fitting 5 folds for each of 120 candidates, totalling 600 fits\n",
      "MSE: 35108307.90176812\n",
      "MAE: 3466.8580400212195\n",
      "R2: 0.7738576826720901\n"
     ]
    }
   ],
   "source": [
    "grid_search_knn=GridSearchCV(knn,param_grid_knn,cv=5,scoring=\"r2\",n_jobs=-1,verbose=1)\n",
    "grid_search_knn.fit(X_train_transformed,y_train)\n",
    "y_pred_newknn=grid_search_knn.predict(X_test_transformed)\n",
    "print(\"MSE:\", mean_squared_error(y_test,y_pred_newknn))\n",
    "print(\"MAE:\", mean_absolute_error(y_test,y_pred_newknn))\n",
    "print(\"R2:\", r2_score(y_test,y_pred_newknn))"
   ]
  },
  {
   "cell_type": "code",
   "execution_count": 57,
   "id": "ddb5db33-f654-4544-b612-7cc83abbc59c",
   "metadata": {},
   "outputs": [
    {
     "data": {
      "text/plain": [
       "{'algorithm': 'brute', 'n_neighbors': 6, 'p': 2, 'weights': 'distance'}"
      ]
     },
     "execution_count": 57,
     "metadata": {},
     "output_type": "execute_result"
    }
   ],
   "source": [
    "grid_search_knn.best_params_"
   ]
  },
  {
   "cell_type": "code",
   "execution_count": 25,
   "id": "fa6bb01e-3fab-439b-916c-bba69ab1fb63",
   "metadata": {},
   "outputs": [
    {
     "name": "stdout",
     "output_type": "stream",
     "text": [
      "MSE: 166204282.6983881\n",
      "MAE: 8605.845654288496\n",
      "R2: -0.0705677341215194\n"
     ]
    }
   ],
   "source": [
    "svr=SVR()\n",
    "svr.fit(X_train_transformed,y_train)\n",
    "y_predsvr=svr.predict(X_test_transformed)\n",
    "print(\"MSE:\", mean_squared_error(y_test,y_predsvr))\n",
    "print(\"MAE:\", mean_absolute_error(y_test,y_predsvr))\n",
    "print(\"R2:\", r2_score(y_test,y_predsvr))"
   ]
  },
  {
   "cell_type": "code",
   "execution_count": 47,
   "id": "43d7c174-10b3-4830-8f61-d7c893584adf",
   "metadata": {},
   "outputs": [],
   "source": [
    "param_grid_svr = {\n",
    "    'C': [0.1, 1, 10, 100, 1000, 10000],\n",
    "    'epsilon': [0.001, 0.01, 0.1, 0.5, 1, 2, 5],\n",
    "    'gamma': ['scale', 'auto', 0.001, 0.01, 0.1, 1],\n",
    "    'kernel': ['rbf']}"
   ]
  },
  {
   "cell_type": "code",
   "execution_count": 49,
   "id": "1752c079-f72f-46e1-b373-ee69d39ec2a8",
   "metadata": {},
   "outputs": [
    {
     "name": "stdout",
     "output_type": "stream",
     "text": [
      "Fitting 5 folds for each of 252 candidates, totalling 1260 fits\n",
      "MSE: 23345421.65006772\n",
      "MAE: 1803.735880629209\n",
      "R2: 0.8496256850169189\n"
     ]
    }
   ],
   "source": [
    "grid_search_svr = GridSearchCV(svr, param_grid_svr, cv=5, scoring='r2', n_jobs=-1, verbose=1)\n",
    "grid_search_svr.fit(X_train_transformed,y_train)\n",
    "y_pred_newsvr=grid_search_svr.predict(X_test_transformed)\n",
    "print(\"MSE:\", mean_squared_error(y_test,y_pred_newsvr))\n",
    "print(\"MAE:\", mean_absolute_error(y_test,y_pred_newsvr))\n",
    "print(\"R2:\", r2_score(y_test,y_pred_newsvr))"
   ]
  },
  {
   "cell_type": "code",
   "execution_count": 56,
   "id": "632a7321-f21d-4bc3-8873-8bad33397f30",
   "metadata": {},
   "outputs": [
    {
     "data": {
      "text/plain": [
       "{'C': 10000, 'epsilon': 5, 'gamma': 'scale', 'kernel': 'rbf'}"
      ]
     },
     "execution_count": 56,
     "metadata": {},
     "output_type": "execute_result"
    }
   ],
   "source": [
    "grid_search_svr.best_params_"
   ]
  },
  {
   "cell_type": "code",
   "execution_count": 45,
   "id": "f98391c8-9c96-424a-912e-ba46af32d2ca",
   "metadata": {},
   "outputs": [
    {
     "name": "stdout",
     "output_type": "stream",
     "text": [
      "MSE: 21093484.00459744\n",
      "MAE: 2697.76543053848\n",
      "R2: 0.8641310379678357\n"
     ]
    }
   ],
   "source": [
    "dtr=DecisionTreeRegressor(criterion=\"poisson\",max_depth=4,random_state=0)\n",
    "dtr.fit(X_train_transformed,y_train)\n",
    "y_preddtr=dtr.predict(X_test_transformed)\n",
    "print(\"MSE:\", mean_squared_error(y_test,y_preddtr))\n",
    "print(\"MAE:\", mean_absolute_error(y_test,y_preddtr))\n",
    "print(\"R2:\", r2_score(y_test,y_preddtr))"
   ]
  },
  {
   "cell_type": "code",
   "execution_count": 52,
   "id": "41f6ff01-bab9-40a5-a81d-9d1b3f9c5803",
   "metadata": {},
   "outputs": [],
   "source": [
    "param_grid_dtr={\n",
    "    \"criterion\":[\"squared_error\", \"friedman_mse\", \"absolute_error\", \"poisson\"],\n",
    "    \"max_depth\":[5,15,20,25,30],\n",
    "    \"min_samples_leaf\":[1,2,3,4,10],\n",
    "    \"min_samples_split\":[3,5,6,8,12]\n",
    "}"
   ]
  },
  {
   "cell_type": "code",
   "execution_count": 54,
   "id": "496f7bb2-ff31-4c76-acaf-edb87297716c",
   "metadata": {},
   "outputs": [
    {
     "name": "stdout",
     "output_type": "stream",
     "text": [
      "Fitting 5 folds for each of 500 candidates, totalling 2500 fits\n",
      "MSE: 21093484.00459744\n",
      "MAE: 2697.76543053848\n",
      "R2: 0.8641310379678357\n"
     ]
    }
   ],
   "source": [
    "grid_search_dtr=GridSearchCV(dtr,param_grid_dtr,cv=5,scoring=\"r2\",n_jobs=-1,verbose=1)\n",
    "grid_search_dtr.fit(X_train_transformed,y_train)\n",
    "y_prednewdtr=dtr.predict(X_test_transformed)\n",
    "print(\"MSE:\", mean_squared_error(y_test,y_prednewdtr))\n",
    "print(\"MAE:\", mean_absolute_error(y_test,y_prednewdtr))\n",
    "print(\"R2:\", r2_score(y_test,y_prednewdtr))"
   ]
  },
  {
   "cell_type": "code",
   "execution_count": 55,
   "id": "61528089-bf2c-44aa-bc8c-32a4727a3df0",
   "metadata": {},
   "outputs": [
    {
     "data": {
      "text/plain": [
       "{'criterion': 'absolute_error',\n",
       " 'max_depth': 5,\n",
       " 'min_samples_leaf': 3,\n",
       " 'min_samples_split': 8}"
      ]
     },
     "execution_count": 55,
     "metadata": {},
     "output_type": "execute_result"
    }
   ],
   "source": [
    "grid_search_dtr.best_params_"
   ]
  },
  {
   "cell_type": "code",
   "execution_count": 59,
   "id": "5f39f34f-279f-4a8f-99f3-ad333ed95a38",
   "metadata": {},
   "outputs": [],
   "source": [
    "default_model_results = {\n",
    "     'Linear Regression': {'R2':0.7835929767120722 , 'MAE': 4181.194473753654, 'MSE':33596915.85136149 },\n",
    "     'KNN Regressor': {'R2': 0.7682154529775659, 'MAE': 3631.59117925, 'MSE':35984256.904628225 },\n",
    "     'SVR Regressor': {'R2':-0.0705677341215194 , 'MAE': 8605.845654288496, 'MSE':166204282.6983881 },\n",
    "     'Decision Tree Regressor': {'R2':0.8641310379678357 , 'MAE':2697.76543053848 , 'MSE':21093484.00459744 }\n",
    " }"
   ]
  },
  {
   "cell_type": "code",
   "execution_count": 60,
   "id": "8bef10ca-5ea9-41d3-a8a3-5a32a17f8bd5",
   "metadata": {},
   "outputs": [],
   "source": [
    "optimized_model_results = {\n",
    "     'KNN Regressor': {'R2':0.7738576826720901 , 'MAE':3466.8580400212195 , 'MSE':35108307.90176812 },\n",
    "     'SVR Regressor': {'R2': 0.8496256850169189, 'MAE':1803.735880629209 , 'MSE': 23345421.65006772},\n",
    "     'Decision Tree Regressor': {'R2':0.8641310379678357, 'MAE': 2697.76543053848, 'MSE':21093484.004597}\n",
    " }"
   ]
  },
  {
   "cell_type": "code",
   "execution_count": 62,
   "id": "2a4e68e6-5240-4a01-ae7f-247574ee592f",
   "metadata": {},
   "outputs": [],
   "source": [
    "df_default_results = pd.DataFrame(default_model_results).T\n",
    "df_optimized_results = pd.DataFrame(optimized_model_results).T"
   ]
  },
  {
   "cell_type": "code",
   "execution_count": 70,
   "id": "7d63b800-94a7-424c-9ff7-e06f5142dd18",
   "metadata": {},
   "outputs": [
    {
     "data": {
      "image/png": "[encoded data removed]",
      "text/plain": [
       "<Figure size 1000x600 with 1 Axes>"
      ]
     },
     "metadata": {},
     "output_type": "display_data"
    }
   ],
   "source": [
    "plt.figure(figsize=(10, 6))\n",
    "sns.barplot(x=df_default_results.index, y=df_default_results['R2'], palette='tab10')\n",
    "plt.title('Varsayılan Ayarlı Modellerin R2 Skoru Karşılaştırması', fontsize=16)\n",
    "plt.ylabel('R2 Skoru', fontsize=12)\n",
    "plt.xlabel('Model', fontsize=12)\n",
    "plt.xticks(rotation=45, ha='right', fontsize=10)\n",
    "plt.yticks(fontsize=10)\n",
    "plt.grid(axis='y', linestyle='--', alpha=0.7)\n",
    "plt.tight_layout()\n",
    "plt.show()"
   ]
  },
  {
   "cell_type": "code",
   "execution_count": 75,
   "id": "6416e98e-8dba-427e-ae5c-a6187552cd90",
   "metadata": {},
   "outputs": [
    {
     "data": {
      "image/png": "[encoded data removed]",
      "text/plain": [
       "<Figure size 1000x600 with 1 Axes>"
      ]
     },
     "metadata": {},
     "output_type": "display_data"
    }
   ],
   "source": [
    "plt.figure(figsize=(10, 6))\n",
    "sns.barplot(x=df_optimized_results.index, y=df_optimized_results['R2'], palette='magma')\n",
    "plt.title('Optimize Edilmiş Modellerin R2 Skoru Karşılaştırması', fontsize=16)\n",
    "plt.ylabel('R2 Skoru', fontsize=12)\n",
    "plt.xlabel('Model', fontsize=12)\n",
    "plt.xticks(rotation=45, ha='right', fontsize=10)\n",
    "plt.yticks(fontsize=10)\n",
    "plt.grid(axis='y', linestyle='--', alpha=0.7)\n",
    "plt.tight_layout()\n",
    "plt.show()"
   ]
  },
  {
   "cell_type": "code",
   "execution_count": null,
   "id": "f1b731a3-0039-4b30-8f68-bb445763eda1",
   "metadata": {},
   "outputs": [],
   "source": []
  }
 ],
 "metadata": {
  "kernelspec": {
   "display_name": "Python [conda env:base] *",
   "language": "python",
   "name": "conda-base-py"
  },
  "language_info": {
   "codemirror_mode": {
    "name": "ipython",
    "version": 3
   },
   "file_extension": ".py",
   "mimetype": "text/x-python",
   "name": "python",
   "nbconvert_exporter": "python",
   "pygments_lexer": "ipython3",
   "version": "3.13.5"
  }
 },
 "nbformat": 4,
 "nbformat_minor": 5
}
